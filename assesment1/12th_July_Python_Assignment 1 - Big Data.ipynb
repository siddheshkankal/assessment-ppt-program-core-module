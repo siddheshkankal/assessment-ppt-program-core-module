{
 "cells": [
  {
   "cell_type": "markdown",
   "metadata": {},
   "source": [
    "##### Write a Python program to check if a given string is an anagram."
   ]
  },
  {
   "cell_type": "code",
   "execution_count": 3,
   "metadata": {},
   "outputs": [],
   "source": [
    "import collections"
   ]
  },
  {
   "cell_type": "code",
   "execution_count": 4,
   "metadata": {},
   "outputs": [
    {
     "name": "stdout",
     "output_type": "stream",
     "text": [
      "True\n"
     ]
    }
   ],
   "source": [
    "\n",
    "def isAnagram( s: str, t: str) -> bool:\n",
    "    if len(s) != len(t):\n",
    "      return False\n",
    "\n",
    "    dict = collections.Counter(s)\n",
    "\n",
    "    for c in t:\n",
    "      dict[c] -= 1\n",
    "      if dict[c] < 0:\n",
    "        return False\n",
    "\n",
    "    return True\n",
    "\n",
    "s = \"anagram\"\n",
    "t = \"nagaram\"\n",
    "print(isAnagram(s,t))"
   ]
  },
  {
   "cell_type": "markdown",
   "metadata": {},
   "source": [
    "#### Write a Python program to find the maximum and minimum values in a dictionary."
   ]
  },
  {
   "cell_type": "code",
   "execution_count": 8,
   "metadata": {},
   "outputs": [],
   "source": [
    "my_dict = {'x':1500, 'y':5000, 'z': 500}\n",
    "\n",
    "def get_min_max(d:dict):\n",
    "    key_max = max(d.keys(), key=(lambda k: d[k]))\n",
    "    key_min = min(d.keys(), key=(lambda k: d[k]))\n",
    "    # print('Maximum Value: ',my_dict[key_max])\n",
    "    # print('Minimum Value: ',my_dict[key_min])\n",
    "    return (my_dict[key_max],my_dict[key_min])\n",
    "\n"
   ]
  },
  {
   "cell_type": "code",
   "execution_count": 10,
   "metadata": {},
   "outputs": [
    {
     "name": "stdout",
     "output_type": "stream",
     "text": [
      "Maximum Value:  5000\n",
      "Minimum Value:  500\n"
     ]
    }
   ],
   "source": [
    "min_val ,max_val = get_min_max(my_dict)\n",
    "print('Maximum Value: ',min_val)\n",
    "print('Minimum Value: ',max_val)"
   ]
  },
  {
   "cell_type": "markdown",
   "metadata": {},
   "source": [
    "#### Write a Python program to find the average of a list of numbers."
   ]
  },
  {
   "cell_type": "code",
   "execution_count": 13,
   "metadata": {},
   "outputs": [
    {
     "data": {
      "text/plain": [
       "3.0"
      ]
     },
     "execution_count": 13,
     "metadata": {},
     "output_type": "execute_result"
    }
   ],
   "source": [
    "numbers = [1, 2, 3, 4, 5]\n",
    "def get_average(num):\n",
    "    total = 0\n",
    "    for num in numbers:\n",
    "        total += num\n",
    "        average = total / len(numbers)\n",
    "    return average\n",
    "        \n",
    "get_average(numbers)"
   ]
  },
  {
   "cell_type": "markdown",
   "metadata": {},
   "source": [
    "#### Write a Python program to remove all vowels from a string."
   ]
  },
  {
   "cell_type": "code",
   "execution_count": 14,
   "metadata": {},
   "outputs": [
    {
     "name": "stdout",
     "output_type": "stream",
     "text": [
      "Prpnst\n"
     ]
    }
   ],
   "source": [
    "def remove_vovels(str):\n",
    "    vovels = ['a', 'e', 'i', 'o', 'u', 'A', 'E', 'I', 'O', 'U']\n",
    "    ans = ''\n",
    "    for letter in str:\n",
    "        if letter not in vovels:\n",
    "            ans += letter\n",
    "        \n",
    "    return ans\n",
    "\n",
    "\n",
    "String = \"PrepInsta\"\n",
    "        \n",
    "print(remove_vovels(String))\n",
    "    "
   ]
  },
  {
   "cell_type": "markdown",
   "metadata": {},
   "source": [
    "#### Write a Python function to calculate the factorial of a number using recursion."
   ]
  },
  {
   "cell_type": "code",
   "execution_count": 15,
   "metadata": {},
   "outputs": [
    {
     "name": "stdout",
     "output_type": "stream",
     "text": [
      "number :  5\n",
      "Factorial :  120\n"
     ]
    }
   ],
   "source": [
    "\n",
    "def factorial(n):\n",
    "\n",
    "\tif (n==1 or n==0):\n",
    "\t\treturn 1\n",
    "\telse:\n",
    "\t\treturn (n * factorial(n - 1))\n",
    "\n",
    "num = 5\n",
    "print(\"number : \",num)\n",
    "print(\"Factorial : \",factorial(num))\n"
   ]
  },
  {
   "cell_type": "markdown",
   "metadata": {},
   "source": [
    "#### Write a Python program to merge two unsorted lists into a single sorted list using the merge sort algorithm."
   ]
  },
  {
   "cell_type": "code",
   "execution_count": 26,
   "metadata": {},
   "outputs": [],
   "source": [
    "def mergeSort(arr):\n",
    "        if len(arr) > 1:\n",
    " \n",
    "            mid = len(arr)//2\n",
    "            sub_array1 = arr[:mid]\n",
    "            sub_array2 = arr[mid:]\n",
    " \n",
    "\n",
    "            mergeSort(sub_array1)\n",
    "            mergeSort(sub_array2)\n",
    "            i = j = k = 0\n",
    "\n",
    "            while i < len(sub_array1) and j < len(sub_array2):\n",
    "                if sub_array1[i] < sub_array2[j]:\n",
    "                    arr[k] = sub_array1[i]\n",
    "                    i += 1\n",
    "                else:\n",
    "                    arr[k] = sub_array2[j]\n",
    "                    j += 1\n",
    "                k += 1\n",
    "\n",
    "            while i < len(sub_array1):\n",
    "                arr[k] = sub_array1[i]\n",
    "                i += 1\n",
    "                k += 1\n",
    " \n",
    "            while j < len(sub_array2):\n",
    "                arr[k] = sub_array2[j]\n",
    "                j += 1\n",
    "                k += 1\n",
    " \n",
    "\n"
   ]
  },
  {
   "cell_type": "code",
   "execution_count": 27,
   "metadata": {},
   "outputs": [
    {
     "data": {
      "text/plain": [
       "[1, 2, 3, 4, 5, 6, 7, 8, 9, 10, 13]"
      ]
     },
     "execution_count": 27,
     "metadata": {},
     "output_type": "execute_result"
    }
   ],
   "source": [
    "\n",
    "def merge(test_list1,test_list2):\n",
    "    mergeSort(test_list1)\n",
    "    mergeSort(test_list2)\n",
    "    size_1 = len(test_list1)\n",
    "    size_2 = len(test_list2)\n",
    "    res = []\n",
    "    i, j = 0, 0\n",
    "    while i < size_1 and j < size_2:\n",
    "        if test_list1[i] < test_list2[j]:\n",
    "            res.append(test_list1[i])\n",
    "            i += 1\n",
    " \n",
    "        else:\n",
    "            res.append(test_list2[j])\n",
    "            j += 1\n",
    " \n",
    "    res = res + test_list1[i:] + test_list2[j:]\n",
    "\n",
    "    return res\n",
    "\n",
    "arr = [10, 9, 2, 4, 6, 13]\n",
    "arr2 = [1,5,3,7,8]\n",
    "\n",
    "merge(arr, arr2)\n"
   ]
  },
  {
   "cell_type": "markdown",
   "metadata": {},
   "source": [
    "#### Write a Python program to find the GCD (Greatest Common Divisor) of two numbers."
   ]
  },
  {
   "cell_type": "code",
   "execution_count": 28,
   "metadata": {},
   "outputs": [
    {
     "name": "stdout",
     "output_type": "stream",
     "text": [
      "The gcd of 60 and 48 is : 12\n"
     ]
    }
   ],
   "source": [
    "def hcf(a, b):\n",
    "    if(b == 0):\n",
    "        return a\n",
    "    else:\n",
    "        return hcf(b, a % b)\n",
    " \n",
    "a = 60\n",
    "b = 48\n",
    " \n",
    "# prints 12\n",
    "print(\"The gcd of 60 and 48 is : \", end=\"\")\n",
    "print(hcf(60, 48))"
   ]
  },
  {
   "cell_type": "markdown",
   "metadata": {},
   "source": [
    "#### Write a Python program to find the second-largest element in a list."
   ]
  },
  {
   "cell_type": "code",
   "execution_count": 29,
   "metadata": {},
   "outputs": [
    {
     "name": "stdout",
     "output_type": "stream",
     "text": [
      "The second largest element of the list is:  879\n"
     ]
    }
   ],
   "source": [
    "lst = [134, 121, 432, 23, 879, 634, 2431]\n",
    "\n",
    "def method1(lst):\n",
    "    lst.sort() \n",
    "    print(\"The second largest element of the list is: \", lst[-2])\n",
    "\n",
    "method1(lst)"
   ]
  },
  {
   "cell_type": "markdown",
   "metadata": {},
   "source": [
    "#### Write a Python program to find the longest common subsequence between two strings"
   ]
  },
  {
   "cell_type": "code",
   "execution_count": 32,
   "metadata": {},
   "outputs": [],
   "source": [
    "\n",
    "def longestCommonSubsequence( text1: str, text2: str) :\n",
    "    m = len(text1)\n",
    "    n = len(text2)\n",
    "    # dp[i][j] := LCS's length of text1[0..i) and text2[0..j)\n",
    "    dp = [[0] * (n + 1) for _ in range(m + 1)]\n",
    "\n",
    "    for i in range(m):\n",
    "      for j in range(n):\n",
    "        dp[i + 1][j + 1] =   1 + dp[i][j] if text1[i] == text2[j] else max(dp[i][j + 1], dp[i + 1][j])\n",
    "\n",
    "    return dp[m][n]\n"
   ]
  },
  {
   "cell_type": "code",
   "execution_count": 33,
   "metadata": {},
   "outputs": [
    {
     "data": {
      "text/plain": [
       "3"
      ]
     },
     "execution_count": 33,
     "metadata": {},
     "output_type": "execute_result"
    }
   ],
   "source": [
    "text1 = \"abcde\"\n",
    "text2 = \"ace\"\n",
    "longestCommonSubsequence(text1,text2)"
   ]
  }
 ],
 "metadata": {
  "kernelspec": {
   "display_name": "Python 3",
   "language": "python",
   "name": "python3"
  },
  "language_info": {
   "codemirror_mode": {
    "name": "ipython",
    "version": 3
   },
   "file_extension": ".py",
   "mimetype": "text/x-python",
   "name": "python",
   "nbconvert_exporter": "python",
   "pygments_lexer": "ipython3",
   "version": "3.9.13"
  },
  "orig_nbformat": 4
 },
 "nbformat": 4,
 "nbformat_minor": 2
}
