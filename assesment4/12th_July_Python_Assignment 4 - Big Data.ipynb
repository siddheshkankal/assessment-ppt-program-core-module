{
 "cells": [
  {
   "cell_type": "markdown",
   "metadata": {},
   "source": [
    "Write a Python program that uses the HiveQL language to create a table named \"Employees\" with columns for \"id,\" \"name,\" and \"salary.\""
   ]
  },
  {
   "cell_type": "code",
   "execution_count": null,
   "metadata": {},
   "outputs": [],
   "source": [
    "import pyhs2\n",
    "if __name__ == \"__main__\":\n",
    "    try:\n",
    "        hive_con =  pyhs2.connect(host='', # Hive server2 IP or host\n",
    "        port=10000,\n",
    "        authMechanism=\"NOSASL\",\n",
    "        user='', # Username\n",
    "        password='' #User password,\n",
    "        database='default')\n",
    "        hive_cur = hive_con.cursor()\n",
    "        table_body  = '(`Id` BIGINT, `name` STRING, `salary` BIGINT ) '\n",
    "        db_name = \"my_db\"\n",
    "        table_name = \"Employees\"\n",
    "        table_format = (\"PARQUET\", \"TEXTFILE\", \"AVRO\",)\n",
    "\n",
    "      # Creating internal Parquet table\n",
    "        create_tb = ('CREATE TABLE IF NOT EXISTS `%s`.`%s` %s STORED AS %s') % (db_name, table_name, table_body, table_format[0])\n",
    "        hive_cur.execute(create_tb)\n",
    "         \n",
    "        hive_cur.close()\n",
    "        hive_con.close()\n",
    "    except Exception as e:\n",
    "        logging.error(str(e))"
   ]
  },
  {
   "cell_type": "markdown",
   "metadata": {},
   "source": [
    " Create a Python program that retrieves records from a Hive table named \"Customers\" where the age is greater than 30"
   ]
  },
  {
   "cell_type": "code",
   "execution_count": null,
   "metadata": {},
   "outputs": [],
   "source": [
    "import pyhs2\n",
    "if __name__ == \"__main__\":\n",
    "    try:\n",
    "        hive_con =  pyhs2.connect(host='', # Hive server2 IP or host\n",
    "        port=10000,\n",
    "        authMechanism=\"NOSASL\",\n",
    "        user='', # Username\n",
    "        password='' #User password,\n",
    "        database='default')\n",
    "        hive_cur = hive_con.cursor()\n",
    "        \n",
    "\n",
    "\n",
    "        hive_cur.execute('SELECT * FROM  `my_db`.`Customers`  where age > 30')\n",
    "        # Fetch ALL table records in the tuple (could be extremely slow for large tables)\n",
    "        records = hive_cur.fetchall()\n",
    "        for record in records:\n",
    "            print(record)\n",
    "\n",
    "        select_query = \n",
    "        result  = hive_cur.execute(select_query)\n",
    "         \n",
    "        hive_cur.close()\n",
    "        hive_con.close()\n",
    "    except Exception as e:\n",
    "        logging.error(str(e))"
   ]
  },
  {
   "cell_type": "code",
   "execution_count": null,
   "metadata": {},
   "outputs": [],
   "source": [
    "\n",
    "# import Spark Session\n",
    "from pyspark.sql import SparkSession\n",
    "  \n",
    "# create spark session\n",
    "spark = SparkSession.builder.appName(\n",
    "    \"HiveQuery\").enableHiveSupport().getOrCreate()\n",
    "  \n",
    "# create table query\n",
    "df = spark.sql(\" SELECT * FROM  Customers  where age > 30 \")\n",
    "display(df)"
   ]
  },
  {
   "cell_type": "markdown",
   "metadata": {},
   "source": [
    "Write a Python program that connects to a Hive server using PyHive library and retrieves all records from a table named \"Products"
   ]
  },
  {
   "cell_type": "code",
   "execution_count": null,
   "metadata": {},
   "outputs": [],
   "source": [
    "from pyhive import hive\n",
    "\n",
    "import pandas as pd\n",
    "\n",
    "#Create Hive connection \n",
    "\n",
    "conn = hive.Connection(host=\"127.0.0.1\", port=10000, username=\"username\")\n",
    "\n",
    "# Read Hive table and Create pandas dataframe\n",
    "\n",
    "df = pd.read_sql(\"SELECT * FROM Products\", conn)\n",
    "\n",
    "print(df.head())"
   ]
  },
  {
   "cell_type": "markdown",
   "metadata": {},
   "source": []
  },
  {
   "cell_type": "code",
   "execution_count": null,
   "metadata": {},
   "outputs": [],
   "source": []
  },
  {
   "cell_type": "code",
   "execution_count": 15,
   "metadata": {},
   "outputs": [],
   "source": [
    "_a = 'a'"
   ]
  }
 ],
 "metadata": {
  "kernelspec": {
   "display_name": "Python 3",
   "language": "python",
   "name": "python3"
  },
  "language_info": {
   "codemirror_mode": {
    "name": "ipython",
    "version": 3
   },
   "file_extension": ".py",
   "mimetype": "text/x-python",
   "name": "python",
   "nbconvert_exporter": "python",
   "pygments_lexer": "ipython3",
   "version": "3.9.13"
  },
  "orig_nbformat": 4
 },
 "nbformat": 4,
 "nbformat_minor": 2
}
